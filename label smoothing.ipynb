{
 "cells": [
  {
   "cell_type": "code",
   "execution_count": 1,
   "metadata": {},
   "outputs": [],
   "source": [
    "from deeppavlov import build_model"
   ]
  },
  {
   "cell_type": "code",
   "execution_count": 2,
   "metadata": {},
   "outputs": [
    {
     "name": "stderr",
     "output_type": "stream",
     "text": [
      "[nltk_data] Downloading package punkt to\n",
      "[nltk_data]     C:\\Users\\petro\\AppData\\Roaming\\nltk_data...\n",
      "[nltk_data]   Package punkt is already up-to-date!\n",
      "[nltk_data] Downloading package stopwords to\n",
      "[nltk_data]     C:\\Users\\petro\\AppData\\Roaming\\nltk_data...\n",
      "[nltk_data]   Package stopwords is already up-to-date!\n",
      "[nltk_data] Downloading package perluniprops to\n",
      "[nltk_data]     C:\\Users\\petro\\AppData\\Roaming\\nltk_data...\n",
      "[nltk_data]   Package perluniprops is already up-to-date!\n",
      "[nltk_data] Downloading package nonbreaking_prefixes to\n",
      "[nltk_data]     C:\\Users\\petro\\AppData\\Roaming\\nltk_data...\n",
      "[nltk_data]   Package nonbreaking_prefixes is already up-to-date!\n",
      "2020-06-02 20:15:11.686 INFO in 'deeppavlov.core.data.simple_vocab'['simple_vocab'] at line 115: [loading vocabulary from C:\\Users\\petro\\PycharmProjects\\ner-sakha\\data\\ner\\word.dict]\n",
      "2020-06-02 20:15:11.773 INFO in 'deeppavlov.core.data.simple_vocab'['simple_vocab'] at line 115: [loading vocabulary from C:\\Users\\petro\\PycharmProjects\\ner-sakha\\data\\ner\\tag.dict]\n",
      "2020-06-02 20:15:11.776 INFO in 'deeppavlov.core.data.simple_vocab'['simple_vocab'] at line 115: [loading vocabulary from C:\\Users\\petro\\PycharmProjects\\ner-sakha\\data\\ner\\char.dict]\n",
      "2020-06-02 20:15:11.784 INFO in 'deeppavlov.models.embedders.fasttext_embedder'['fasttext_embedder'] at line 53: [loading fastText embeddings from `C:\\Users\\petro\\PycharmProjects\\ner-sakha\\data\\emb100.bin`]\n",
      "\n"
     ]
    },
    {
     "name": "stdout",
     "output_type": "stream",
     "text": [
      "WARNING:tensorflow:From c:\\users\\petro\\pycharmprojects\\ner-sakha\\venv\\lib\\site-packages\\deeppavlov\\core\\models\\tf_model.py:37: The name tf.Session is deprecated. Please use tf.compat.v1.Session instead.\n",
      "\n",
      "WARNING:tensorflow:From c:\\users\\petro\\pycharmprojects\\ner-sakha\\venv\\lib\\site-packages\\deeppavlov\\core\\models\\tf_model.py:222: The name tf.placeholder is deprecated. Please use tf.compat.v1.placeholder instead.\n",
      "\n",
      "WARNING:tensorflow:From c:\\users\\petro\\pycharmprojects\\ner-sakha\\venv\\lib\\site-packages\\deeppavlov\\core\\models\\tf_model.py:222: The name tf.train.Optimizer is deprecated. Please use tf.compat.v1.train.Optimizer instead.\n",
      "\n",
      "WARNING:tensorflow:From c:\\users\\petro\\pycharmprojects\\ner-sakha\\venv\\lib\\site-packages\\deeppavlov\\models\\ner\\network.py:96: The name tf.set_random_seed is deprecated. Please use tf.compat.v1.set_random_seed instead.\n",
      "\n",
      "WARNING:tensorflow:From c:\\users\\petro\\pycharmprojects\\ner-sakha\\venv\\lib\\site-packages\\deeppavlov\\core\\models\\tf_model.py:193: The name tf.train.AdamOptimizer is deprecated. Please use tf.compat.v1.train.AdamOptimizer instead.\n",
      "\n",
      "WARNING:tensorflow:From c:\\users\\petro\\pycharmprojects\\ner-sakha\\venv\\lib\\site-packages\\deeppavlov\\models\\ner\\network.py:170: The name tf.placeholder_with_default is deprecated. Please use tf.compat.v1.placeholder_with_default instead.\n",
      "\n",
      "WARNING:tensorflow:From c:\\users\\petro\\pycharmprojects\\ner-sakha\\venv\\lib\\site-packages\\deeppavlov\\core\\layers\\tf_layers.py:405: The name tf.variable_scope is deprecated. Please use tf.compat.v1.variable_scope instead.\n",
      "\n",
      "WARNING:tensorflow:From c:\\users\\petro\\pycharmprojects\\ner-sakha\\venv\\lib\\site-packages\\deeppavlov\\core\\layers\\tf_layers.py:416: conv2d (from tensorflow.python.layers.convolutional) is deprecated and will be removed in a future version.\n",
      "Instructions for updating:\n",
      "Use `tf.keras.layers.Conv2D` instead.\n",
      "WARNING:tensorflow:From c:\\users\\petro\\pycharmprojects\\ner-sakha\\venv\\lib\\site-packages\\tensorflow_core\\python\\layers\\convolutional.py:424: Layer.apply (from tensorflow.python.keras.engine.base_layer) is deprecated and will be removed in a future version.\n",
      "Instructions for updating:\n",
      "Please use `layer.__call__` method instead.\n",
      "WARNING:tensorflow:From c:\\users\\petro\\pycharmprojects\\ner-sakha\\venv\\lib\\site-packages\\deeppavlov\\models\\ner\\network.py:211: to_int32 (from tensorflow.python.ops.math_ops) is deprecated and will be removed in a future version.\n",
      "Instructions for updating:\n",
      "Use `tf.cast` instead.\n",
      "WARNING:tensorflow:From c:\\users\\petro\\pycharmprojects\\ner-sakha\\venv\\lib\\site-packages\\deeppavlov\\core\\common\\check_gpu.py:29: The name tf.ConfigProto is deprecated. Please use tf.compat.v1.ConfigProto instead.\n",
      "\n",
      "WARNING:tensorflow:\n",
      "The TensorFlow contrib module will not be included in TensorFlow 2.0.\n",
      "For more information, please see:\n",
      "  * https://github.com/tensorflow/community/blob/master/rfcs/20180907-contrib-sunset.md\n",
      "  * https://github.com/tensorflow/addons\n",
      "  * https://github.com/tensorflow/io (for I/O related ops)\n",
      "If you depend on functionality not listed there, please file an issue.\n",
      "\n",
      "WARNING:tensorflow:From c:\\users\\petro\\pycharmprojects\\ner-sakha\\venv\\lib\\site-packages\\tensorflow_core\\contrib\\cudnn_rnn\\python\\layers\\cudnn_rnn.py:342: calling GlorotUniform.__init__ (from tensorflow.python.ops.init_ops) with dtype is deprecated and will be removed in a future version.\n",
      "Instructions for updating:\n",
      "Call initializer instance with the dtype argument instead of passing it to the constructor\n",
      "WARNING:tensorflow:From c:\\users\\petro\\pycharmprojects\\ner-sakha\\venv\\lib\\site-packages\\tensorflow_core\\contrib\\cudnn_rnn\\python\\layers\\cudnn_rnn.py:345: calling Constant.__init__ (from tensorflow.python.ops.init_ops) with dtype is deprecated and will be removed in a future version.\n",
      "Instructions for updating:\n",
      "Call initializer instance with the dtype argument instead of passing it to the constructor\n",
      "WARNING:tensorflow:From c:\\users\\petro\\pycharmprojects\\ner-sakha\\venv\\lib\\site-packages\\deeppavlov\\core\\layers\\tf_layers.py:861: calling reverse_sequence (from tensorflow.python.ops.array_ops) with seq_dim is deprecated and will be removed in a future version.\n",
      "Instructions for updating:\n",
      "seq_dim is deprecated, use seq_axis instead\n",
      "WARNING:tensorflow:From c:\\users\\petro\\pycharmprojects\\ner-sakha\\venv\\lib\\site-packages\\tensorflow_core\\python\\util\\deprecation.py:507: calling reverse_sequence (from tensorflow.python.ops.array_ops) with batch_dim is deprecated and will be removed in a future version.\n",
      "Instructions for updating:\n",
      "batch_dim is deprecated, use batch_axis instead\n",
      "WARNING:tensorflow:From c:\\users\\petro\\pycharmprojects\\ner-sakha\\venv\\lib\\site-packages\\deeppavlov\\models\\ner\\network.py:248: dense (from tensorflow.python.layers.core) is deprecated and will be removed in a future version.\n",
      "Instructions for updating:\n",
      "Use keras.layers.Dense instead.\n",
      "WARNING:tensorflow:From c:\\users\\petro\\pycharmprojects\\ner-sakha\\venv\\lib\\site-packages\\tensorflow_core\\contrib\\crf\\python\\ops\\crf.py:99: where (from tensorflow.python.ops.array_ops) is deprecated and will be removed in a future version.\n",
      "Instructions for updating:\n",
      "Use tf.where in 2.0, which has the same broadcast rule as np.where\n",
      "WARNING:tensorflow:From c:\\users\\petro\\pycharmprojects\\ner-sakha\\venv\\lib\\site-packages\\tensorflow_core\\contrib\\crf\\python\\ops\\crf.py:213: dynamic_rnn (from tensorflow.python.ops.rnn) is deprecated and will be removed in a future version.\n",
      "Instructions for updating:\n",
      "Please use `keras.layers.RNN(cell)`, which is equivalent to this API\n",
      "WARNING:tensorflow:From c:\\users\\petro\\pycharmprojects\\ner-sakha\\venv\\lib\\site-packages\\deeppavlov\\core\\models\\tf_model.py:127: The name tf.get_collection is deprecated. Please use tf.compat.v1.get_collection instead.\n",
      "\n",
      "WARNING:tensorflow:From c:\\users\\petro\\pycharmprojects\\ner-sakha\\venv\\lib\\site-packages\\deeppavlov\\core\\models\\tf_model.py:127: The name tf.GraphKeys is deprecated. Please use tf.compat.v1.GraphKeys instead.\n",
      "\n",
      "WARNING:tensorflow:From c:\\users\\petro\\pycharmprojects\\ner-sakha\\venv\\lib\\site-packages\\tensorflow_core\\python\\training\\slot_creator.py:193: Variable.initialized_value (from tensorflow.python.ops.variables) is deprecated and will be removed in a future version.\n",
      "Instructions for updating:\n",
      "Use Variable.read_value. Variables in 2.X are initialized automatically both in eager and graph (inside tf.defun) contexts.\n",
      "WARNING:tensorflow:From c:\\users\\petro\\pycharmprojects\\ner-sakha\\venv\\lib\\site-packages\\deeppavlov\\models\\ner\\network.py:166: The name tf.global_variables_initializer is deprecated. Please use tf.compat.v1.global_variables_initializer instead.\n",
      "\n",
      "WARNING:tensorflow:From c:\\users\\petro\\pycharmprojects\\ner-sakha\\venv\\lib\\site-packages\\deeppavlov\\core\\models\\tf_model.py:50: checkpoint_exists (from tensorflow.python.training.checkpoint_management) is deprecated and will be removed in a future version.\n",
      "Instructions for updating:\n",
      "Use standard file APIs to check for files with this prefix.\n"
     ]
    },
    {
     "name": "stderr",
     "output_type": "stream",
     "text": [
      "2020-06-02 20:15:18.732 INFO in 'deeppavlov.core.models.tf_model'['tf_model'] at line 51: [loading model from C:\\Users\\petro\\PycharmProjects\\ner-sakha\\data\\ner\\model]\n"
     ]
    },
    {
     "name": "stdout",
     "output_type": "stream",
     "text": [
      "WARNING:tensorflow:From c:\\users\\petro\\pycharmprojects\\ner-sakha\\venv\\lib\\site-packages\\deeppavlov\\core\\models\\tf_model.py:54: The name tf.train.Saver is deprecated. Please use tf.compat.v1.train.Saver instead.\n",
      "\n",
      "INFO:tensorflow:Restoring parameters from C:\\Users\\petro\\PycharmProjects\\ner-sakha\\data\\ner\\model\n"
     ]
    }
   ],
   "source": [
    "model = build_model('ner.json')"
   ]
  },
  {
   "cell_type": "code",
   "execution_count": 3,
   "metadata": {},
   "outputs": [],
   "source": [
    "def read_file(filename):\n",
    "    with open(filename, encoding='utf8') as f:\n",
    "        s = f.read()\n",
    "    sentences = s.split('\\n\\n')\n",
    "    words = [[line.split()[0] for line in sentence.split('\\n')] for sentence in sentences]\n",
    "    entities = [[line.split()[1] for line in sentence.split('\\n')] for sentence in sentences]\n",
    "    return words, entities    "
   ]
  },
  {
   "cell_type": "code",
   "execution_count": 4,
   "metadata": {},
   "outputs": [],
   "source": [
    "words, entities = read_file('data/collect3/test.txt')"
   ]
  },
  {
   "cell_type": "code",
   "execution_count": 5,
   "metadata": {},
   "outputs": [],
   "source": [
    "import random"
   ]
  },
  {
   "cell_type": "code",
   "execution_count": 28,
   "metadata": {},
   "outputs": [
    {
     "name": "stdout",
     "output_type": "stream",
     "text": [
      "Украина Президенэ Виктор Янукович Правительство саҥа састаабын Николай Азаров председателинэн анаата .\n"
     ]
    },
    {
     "data": {
      "text/plain": [
       "[(['Украина'], ['B-LOC'], 'B-LOC'),\n",
       " (['Президенэ'], ['O'], 'O'),\n",
       " (['Виктор'], ['O'], 'B-PER'),\n",
       " (['Янукович'], ['B-PER'], 'I-PER'),\n",
       " (['Правительство'], ['O'], 'O'),\n",
       " (['саҥа'], ['O'], 'O'),\n",
       " (['састаабын'], ['O'], 'O'),\n",
       " (['Николай'], ['B-PER'], 'B-PER'),\n",
       " (['Азаров'], ['B-PER'], 'I-PER'),\n",
       " (['председателинэн'], ['O'], 'O'),\n",
       " (['анаата'], ['O'], 'O'),\n",
       " (['.'], ['O'], 'O')]"
      ]
     },
     "execution_count": 28,
     "metadata": {},
     "output_type": "execute_result"
    }
   ],
   "source": [
    "i = random.randint(0, len(words))\n",
    "print(' '.join(words[i]))\n",
    "kek = model(words[i])\n",
    "list(zip(kek[0], kek[1], entities[i]))"
   ]
  },
  {
   "cell_type": "code",
   "execution_count": 7,
   "metadata": {
    "pycharm": {
     "name": "#%%\n"
    }
   },
   "outputs": [
    {
     "data": {
      "text/plain": [
       "[[['Сарсын', 'Николай', 'Москкэлиэхтээх']], [['O', 'B-PER', 'O']]]"
      ]
     },
     "execution_count": 7,
     "metadata": {},
     "output_type": "execute_result"
    }
   ],
   "source": [
    "model(['Сарсын Николай Москкэлиэхтээх'])"
   ]
  },
  {
   "cell_type": "code",
   "execution_count": null,
   "metadata": {
    "pycharm": {
     "name": "#%%\n"
    }
   },
   "outputs": [],
   "source": []
  },
  {
   "cell_type": "code",
   "execution_count": null,
   "metadata": {
    "pycharm": {
     "name": "#%%\n"
    }
   },
   "outputs": [],
   "source": []
  },
  {
   "cell_type": "code",
   "execution_count": null,
   "metadata": {
    "pycharm": {
     "name": "#%%\n"
    }
   },
   "outputs": [],
   "source": []
  },
  {
   "cell_type": "code",
   "execution_count": null,
   "metadata": {
    "pycharm": {
     "name": "#%%\n"
    }
   },
   "outputs": [],
   "source": []
  },
  {
   "cell_type": "code",
   "execution_count": null,
   "metadata": {
    "pycharm": {
     "name": "#%%\n"
    }
   },
   "outputs": [],
   "source": []
  },
  {
   "cell_type": "code",
   "execution_count": null,
   "metadata": {
    "pycharm": {
     "name": "#%%\n"
    }
   },
   "outputs": [],
   "source": []
  },
  {
   "cell_type": "code",
   "execution_count": null,
   "metadata": {
    "pycharm": {
     "name": "#%%\n"
    }
   },
   "outputs": [],
   "source": []
  },
  {
   "cell_type": "code",
   "execution_count": null,
   "metadata": {},
   "outputs": [],
   "source": [
    "'``'\n",
    "'суруйарынан'\n",
    "'кыайдылар'\n",
    "'Саха' - 'PER'\n",
    "'сирин' - 'PER'\n",
    "'Никулин' - 'LOC'\n",
    "'Ойоҕоһу' - 'ORG'\n",
    "'ыйытан' - 'PER'\n",
    "'иһитиннэрбитинэн'\n",
    "'АХШ' - 'PER'\n",
    "'Чехия' - 'PER'\n",
    "'тутуллубуттара'\n",
    "'иһитиннэрдэ'\n",
    "'талбыта'\n",
    "'якун' - 'PER'\n",
    "'Гендиректор' - 'ORG'\n",
    "'мөл'\n",
    "'салайбыта'\n",
    "'Приволжскай' - 'PER'\n",
    "'консультациялыыллар'\n",
    "'Евразия'\n",
    "'буолбута'\n",
    "'салайар'\n",
    "'Туһунан'"
   ]
  },
  {
   "cell_type": "code",
   "execution_count": null,
   "metadata": {},
   "outputs": [],
   "source": []
  },
  {
   "cell_type": "code",
   "execution_count": null,
   "metadata": {},
   "outputs": [],
   "source": []
  },
  {
   "cell_type": "code",
   "execution_count": null,
   "metadata": {},
   "outputs": [],
   "source": []
  },
  {
   "cell_type": "code",
   "execution_count": null,
   "metadata": {},
   "outputs": [],
   "source": []
  },
  {
   "cell_type": "code",
   "execution_count": null,
   "metadata": {},
   "outputs": [],
   "source": []
  },
  {
   "cell_type": "code",
   "execution_count": null,
   "metadata": {},
   "outputs": [],
   "source": []
  },
  {
   "cell_type": "code",
   "execution_count": null,
   "metadata": {},
   "outputs": [],
   "source": []
  },
  {
   "cell_type": "markdown",
   "metadata": {},
   "source": [
    "'``'\n",
    "'суруйарынан'\n",
    "'кыайдылар'\n",
    "'Саха' - 'PER'\n",
    "'сирин' - 'PER'\n",
    "'Никулин' - 'LOC'\n",
    "'Ойоҕоһу' - 'ORG'\n",
    "'ыйытан' - 'PER'\n",
    "'иһитиннэрбитинэн'\n",
    "'АХШ' - 'PER'\n",
    "'Чехия' - 'PER'\n",
    "'тутуллубуттара'\n",
    "'иһитиннэрдэ'\n",
    "'талбыта'\n",
    "'якун' - 'PER'\n",
    "'Гендиректор' - 'ORG'\n",
    "'мөл'\n",
    "'салайбыта'\n",
    "'Приволжскай' - 'PER'\n",
    "'консультациялыыллар'\n",
    "'Евразия'\n",
    "'буолбута'\n",
    "'салайар'\n",
    "'Туһунан'"
   ]
  },
  {
   "cell_type": "code",
   "execution_count": 44,
   "metadata": {},
   "outputs": [],
   "source": [
    "corpus = '\\n\\n'.join([' '.join(sentence) for sentence in words])"
   ]
  },
  {
   "cell_type": "code",
   "execution_count": 45,
   "metadata": {},
   "outputs": [],
   "source": [
    "with open('data/all.txt', 'a', encoding='utf8') as f:\n",
    "    f.write('\\n\\n' + corpus)"
   ]
  },
  {
   "cell_type": "code",
   "execution_count": null,
   "metadata": {},
   "outputs": [
    {
     "data": {
      "text/plain": [
       "Launching TensorBoard..."
      ]
     },
     "metadata": {},
     "output_type": "display_data"
    }
   ],
   "source": [
    "%load_ext tensorboard\n",
    "\n",
    "%tensorboard --logdir data/ner/logs/valid_log"
   ]
  },
  {
   "cell_type": "code",
   "execution_count": null,
   "metadata": {},
   "outputs": [],
   "source": []
  }
 ],
 "metadata": {
  "kernelspec": {
   "display_name": "Python 3",
   "language": "python",
   "name": "python3"
  },
  "language_info": {
   "codemirror_mode": {
    "name": "ipython",
    "version": 3
   },
   "file_extension": ".py",
   "mimetype": "text/x-python",
   "name": "python",
   "nbconvert_exporter": "python",
   "pygments_lexer": "ipython3",
   "version": "3.7.7"
  }
 },
 "nbformat": 4,
 "nbformat_minor": 4
}
